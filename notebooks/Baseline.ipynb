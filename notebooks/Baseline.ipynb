{
 "cells": [
  {
   "cell_type": "code",
   "execution_count": 153,
   "id": "inappropriate-korean",
   "metadata": {},
   "outputs": [],
   "source": [
    "import sklearn\n",
    "import pandas as pd\n",
    "from numpy import loadtxt\n",
    "from sklearn.naive_bayes import GaussianNB\n",
    "from sklearn.ensemble import RandomForestClassifier, GradientBoostingClassifier\n",
    "from sklearn.model_selection import train_test_split\n",
    "import string"
   ]
  },
  {
   "cell_type": "code",
   "execution_count": 144,
   "id": "proprietary-nicaragua",
   "metadata": {},
   "outputs": [],
   "source": [
    "# constant\n",
    "dictionary = list(string.ascii_letters + string.digits)"
   ]
  },
  {
   "cell_type": "code",
   "execution_count": 145,
   "id": "overall-bobby",
   "metadata": {},
   "outputs": [],
   "source": [
    "def split(word): \n",
    "    return [char for char in word]"
   ]
  },
  {
   "cell_type": "code",
   "execution_count": 146,
   "id": "measured-honor",
   "metadata": {},
   "outputs": [],
   "source": [
    "def featurize(df):\n",
    "    for index, row in df.iterrows():\n",
    "        raw_feature = split(row.Sentence)\n",
    "        for i in raw_feature:\n",
    "            num = row[i] + 1\n",
    "            df.loc[index, i] = num\n",
    "    return df"
   ]
  },
  {
   "cell_type": "code",
   "execution_count": 147,
   "id": "photographic-stanford",
   "metadata": {},
   "outputs": [],
   "source": [
    "def read_data(name, train_val=True):\n",
    "    if train_val:\n",
    "        # read X_train.txt y_train.txt files into dataframe\n",
    "        lines = []\n",
    "        label = []\n",
    "        with open('X_' + name + '.txt') as f:\n",
    "            for line in f:\n",
    "                lines.append(line.strip())\n",
    "\n",
    "        with open('y_' + name + '.txt') as f:\n",
    "            for line in f:\n",
    "                label.append(line.strip())\n",
    "        df = pd.DataFrame({'Sentence':lines,\n",
    "                             'Label':label})\n",
    "        return df.reindex(columns = df.columns.tolist() + dictionary).fillna(0)\n",
    "    else:\n",
    "        lines = []\n",
    "        with open('X_' + name + '.txt') as f:\n",
    "            for line in f:\n",
    "                lines.append(line.strip())\n",
    "        df = pd.DataFrame({'Sentence':lines})\n",
    "        return df.reindex(columns = df.columns.tolist() + dictionary).fillna(0)"
   ]
  },
  {
   "cell_type": "code",
   "execution_count": 148,
   "id": "reduced-stationery",
   "metadata": {},
   "outputs": [],
   "source": [
    "df_train_small = read_data('small_train')\n",
    "df_test_small = read_data('small_test')\n",
    "df_train = read_data('train')\n",
    "df_test = read_data('test', train_val=False)"
   ]
  },
  {
   "cell_type": "code",
   "execution_count": 149,
   "id": "unable-float",
   "metadata": {
    "scrolled": true
   },
   "outputs": [
    {
     "data": {
      "text/html": [
       "<div>\n",
       "<style scoped>\n",
       "    .dataframe tbody tr th:only-of-type {\n",
       "        vertical-align: middle;\n",
       "    }\n",
       "\n",
       "    .dataframe tbody tr th {\n",
       "        vertical-align: top;\n",
       "    }\n",
       "\n",
       "    .dataframe thead th {\n",
       "        text-align: right;\n",
       "    }\n",
       "</style>\n",
       "<table border=\"1\" class=\"dataframe\">\n",
       "  <thead>\n",
       "    <tr style=\"text-align: right;\">\n",
       "      <th></th>\n",
       "      <th>Sentence</th>\n",
       "      <th>Label</th>\n",
       "      <th>a</th>\n",
       "      <th>b</th>\n",
       "      <th>c</th>\n",
       "      <th>d</th>\n",
       "      <th>e</th>\n",
       "      <th>f</th>\n",
       "      <th>g</th>\n",
       "      <th>h</th>\n",
       "      <th>...</th>\n",
       "      <th>0</th>\n",
       "      <th>1</th>\n",
       "      <th>2</th>\n",
       "      <th>3</th>\n",
       "      <th>4</th>\n",
       "      <th>5</th>\n",
       "      <th>6</th>\n",
       "      <th>7</th>\n",
       "      <th>8</th>\n",
       "      <th>9</th>\n",
       "    </tr>\n",
       "  </thead>\n",
       "  <tbody>\n",
       "    <tr>\n",
       "      <th>0</th>\n",
       "      <td>DvdM5Zpx96qKuN3cAt1y</td>\n",
       "      <td>6</td>\n",
       "      <td>0.0</td>\n",
       "      <td>0.0</td>\n",
       "      <td>0.0</td>\n",
       "      <td>0.0</td>\n",
       "      <td>0.0</td>\n",
       "      <td>0.0</td>\n",
       "      <td>0.0</td>\n",
       "      <td>0.0</td>\n",
       "      <td>...</td>\n",
       "      <td>0.0</td>\n",
       "      <td>0.0</td>\n",
       "      <td>0.0</td>\n",
       "      <td>0.0</td>\n",
       "      <td>0.0</td>\n",
       "      <td>0.0</td>\n",
       "      <td>0.0</td>\n",
       "      <td>0.0</td>\n",
       "      <td>0.0</td>\n",
       "      <td>0.0</td>\n",
       "    </tr>\n",
       "    <tr>\n",
       "      <th>1</th>\n",
       "      <td>5QpgRV2cqU9wvjBist1a</td>\n",
       "      <td>3</td>\n",
       "      <td>0.0</td>\n",
       "      <td>0.0</td>\n",
       "      <td>0.0</td>\n",
       "      <td>0.0</td>\n",
       "      <td>0.0</td>\n",
       "      <td>0.0</td>\n",
       "      <td>0.0</td>\n",
       "      <td>0.0</td>\n",
       "      <td>...</td>\n",
       "      <td>0.0</td>\n",
       "      <td>0.0</td>\n",
       "      <td>0.0</td>\n",
       "      <td>0.0</td>\n",
       "      <td>0.0</td>\n",
       "      <td>0.0</td>\n",
       "      <td>0.0</td>\n",
       "      <td>0.0</td>\n",
       "      <td>0.0</td>\n",
       "      <td>0.0</td>\n",
       "    </tr>\n",
       "    <tr>\n",
       "      <th>2</th>\n",
       "      <td>2F6ZfVCQRi3vrwcj4zxL</td>\n",
       "      <td>1</td>\n",
       "      <td>0.0</td>\n",
       "      <td>0.0</td>\n",
       "      <td>0.0</td>\n",
       "      <td>0.0</td>\n",
       "      <td>0.0</td>\n",
       "      <td>0.0</td>\n",
       "      <td>0.0</td>\n",
       "      <td>0.0</td>\n",
       "      <td>...</td>\n",
       "      <td>0.0</td>\n",
       "      <td>0.0</td>\n",
       "      <td>0.0</td>\n",
       "      <td>0.0</td>\n",
       "      <td>0.0</td>\n",
       "      <td>0.0</td>\n",
       "      <td>0.0</td>\n",
       "      <td>0.0</td>\n",
       "      <td>0.0</td>\n",
       "      <td>0.0</td>\n",
       "    </tr>\n",
       "    <tr>\n",
       "      <th>3</th>\n",
       "      <td>1KjZ4An78sOytkzgRL0E</td>\n",
       "      <td>7</td>\n",
       "      <td>0.0</td>\n",
       "      <td>0.0</td>\n",
       "      <td>0.0</td>\n",
       "      <td>0.0</td>\n",
       "      <td>0.0</td>\n",
       "      <td>0.0</td>\n",
       "      <td>0.0</td>\n",
       "      <td>0.0</td>\n",
       "      <td>...</td>\n",
       "      <td>0.0</td>\n",
       "      <td>0.0</td>\n",
       "      <td>0.0</td>\n",
       "      <td>0.0</td>\n",
       "      <td>0.0</td>\n",
       "      <td>0.0</td>\n",
       "      <td>0.0</td>\n",
       "      <td>0.0</td>\n",
       "      <td>0.0</td>\n",
       "      <td>0.0</td>\n",
       "    </tr>\n",
       "    <tr>\n",
       "      <th>4</th>\n",
       "      <td>JnHGRI2v5NuB9lpsEOCS</td>\n",
       "      <td>1</td>\n",
       "      <td>0.0</td>\n",
       "      <td>0.0</td>\n",
       "      <td>0.0</td>\n",
       "      <td>0.0</td>\n",
       "      <td>0.0</td>\n",
       "      <td>0.0</td>\n",
       "      <td>0.0</td>\n",
       "      <td>0.0</td>\n",
       "      <td>...</td>\n",
       "      <td>0.0</td>\n",
       "      <td>0.0</td>\n",
       "      <td>0.0</td>\n",
       "      <td>0.0</td>\n",
       "      <td>0.0</td>\n",
       "      <td>0.0</td>\n",
       "      <td>0.0</td>\n",
       "      <td>0.0</td>\n",
       "      <td>0.0</td>\n",
       "      <td>0.0</td>\n",
       "    </tr>\n",
       "  </tbody>\n",
       "</table>\n",
       "<p>5 rows × 64 columns</p>\n",
       "</div>"
      ],
      "text/plain": [
       "               Sentence Label    a    b    c    d    e    f    g    h  ...  \\\n",
       "0  DvdM5Zpx96qKuN3cAt1y     6  0.0  0.0  0.0  0.0  0.0  0.0  0.0  0.0  ...   \n",
       "1  5QpgRV2cqU9wvjBist1a     3  0.0  0.0  0.0  0.0  0.0  0.0  0.0  0.0  ...   \n",
       "2  2F6ZfVCQRi3vrwcj4zxL     1  0.0  0.0  0.0  0.0  0.0  0.0  0.0  0.0  ...   \n",
       "3  1KjZ4An78sOytkzgRL0E     7  0.0  0.0  0.0  0.0  0.0  0.0  0.0  0.0  ...   \n",
       "4  JnHGRI2v5NuB9lpsEOCS     1  0.0  0.0  0.0  0.0  0.0  0.0  0.0  0.0  ...   \n",
       "\n",
       "     0    1    2    3    4    5    6    7    8    9  \n",
       "0  0.0  0.0  0.0  0.0  0.0  0.0  0.0  0.0  0.0  0.0  \n",
       "1  0.0  0.0  0.0  0.0  0.0  0.0  0.0  0.0  0.0  0.0  \n",
       "2  0.0  0.0  0.0  0.0  0.0  0.0  0.0  0.0  0.0  0.0  \n",
       "3  0.0  0.0  0.0  0.0  0.0  0.0  0.0  0.0  0.0  0.0  \n",
       "4  0.0  0.0  0.0  0.0  0.0  0.0  0.0  0.0  0.0  0.0  \n",
       "\n",
       "[5 rows x 64 columns]"
      ]
     },
     "execution_count": 149,
     "metadata": {},
     "output_type": "execute_result"
    }
   ],
   "source": [
    "df_train_small.head()"
   ]
  },
  {
   "cell_type": "markdown",
   "id": "protective-companion",
   "metadata": {},
   "source": [
    "### find unique charactar in sentence"
   ]
  },
  {
   "cell_type": "markdown",
   "id": "liable-biodiversity",
   "metadata": {},
   "source": [
    "### the dictionary are charactors from alphabet and numbers"
   ]
  },
  {
   "cell_type": "markdown",
   "id": "smart-rochester",
   "metadata": {},
   "source": [
    "#### base methods: the minimal length of words is 1."
   ]
  },
  {
   "cell_type": "code",
   "execution_count": 150,
   "id": "earned-despite",
   "metadata": {},
   "outputs": [],
   "source": [
    "df_train_small = featurize(df_train_small)\n",
    "df_test_small = featurize(df_test_small)"
   ]
  },
  {
   "cell_type": "code",
   "execution_count": 151,
   "id": "classified-musician",
   "metadata": {},
   "outputs": [],
   "source": [
    "df_train = featurize(df_train)\n",
    "df_test = featurize(df_test)"
   ]
  },
  {
   "cell_type": "code",
   "execution_count": null,
   "id": "solar-tulsa",
   "metadata": {},
   "outputs": [],
   "source": [
    "X_train = df_train.drop([\"Sentence\",\"Label\"], axis=1)\n",
    "y_train = df_train['Label']"
   ]
  },
  {
   "cell_type": "code",
   "execution_count": 154,
   "id": "engaging-religious",
   "metadata": {},
   "outputs": [],
   "source": [
    "X_val = df_train_small.drop([\"Sentence\",\"Label\"], axis=1)\n",
    "y_val = df_train_small['Label']"
   ]
  },
  {
   "cell_type": "code",
   "execution_count": 157,
   "id": "aggregate-carrier",
   "metadata": {},
   "outputs": [],
   "source": [
    "X_train, X_test, y_train, y_test = train_test_split(X_train, y_train, test_size=0.8, random_state=0)"
   ]
  },
  {
   "cell_type": "code",
   "execution_count": 158,
   "id": "reflected-enhancement",
   "metadata": {},
   "outputs": [
    {
     "data": {
      "text/plain": [
       "814"
      ]
     },
     "execution_count": 158,
     "metadata": {},
     "output_type": "execute_result"
    }
   ],
   "source": [
    "len(X_train)"
   ]
  },
  {
   "cell_type": "code",
   "execution_count": 159,
   "id": "annual-controversy",
   "metadata": {},
   "outputs": [
    {
     "name": "stdout",
     "output_type": "stream",
     "text": [
      "Acc of a total 3259 points : 658\n"
     ]
    }
   ],
   "source": [
    "# create a naive bayer model\n",
    "gnb = GaussianNB()\n",
    "# fit train data\n",
    "gnb.fit(X_train, y_train)\n",
    "# make prediction\n",
    "y_pred = gnb.predict(X_test)\n",
    "#print accuracy\n",
    "print(\"Acc of a total %d points : %d\"\n",
    "      % (X_test.shape[0], (y_test == y_pred).sum()))"
   ]
  },
  {
   "cell_type": "code",
   "execution_count": 160,
   "id": "level-contributor",
   "metadata": {},
   "outputs": [
    {
     "name": "stdout",
     "output_type": "stream",
     "text": [
      "Acc of a total 3259 points : 675\n"
     ]
    }
   ],
   "source": [
    "clf = GradientBoostingClassifier(n_estimators=100, learning_rate=1.0,\n",
    "    max_depth=1, random_state=0).fit(X_train, y_train)\n",
    "# make prediction\n",
    "y_pred = clf.predict(X_test)\n",
    "#print accuracy\n",
    "print(\"Acc of a total %d points : %d\"\n",
    "      % (X_test.shape[0], (y_test == y_pred).sum()))"
   ]
  },
  {
   "cell_type": "code",
   "execution_count": 139,
   "id": "flush-johns",
   "metadata": {},
   "outputs": [],
   "source": [
    "X_test_real = df_test.drop([\"Sentence\"], axis=1)"
   ]
  },
  {
   "cell_type": "code",
   "execution_count": 140,
   "id": "cooperative-catch",
   "metadata": {},
   "outputs": [],
   "source": [
    "y_pred = clf.predict(X_test_real)"
   ]
  },
  {
   "cell_type": "code",
   "execution_count": 141,
   "id": "statistical-direction",
   "metadata": {},
   "outputs": [
    {
     "data": {
      "text/plain": [
       "array(['2', '2', '2', ..., '2', '2', '2'], dtype=object)"
      ]
     },
     "execution_count": 141,
     "metadata": {},
     "output_type": "execute_result"
    }
   ],
   "source": [
    "y_pred"
   ]
  },
  {
   "cell_type": "code",
   "execution_count": 142,
   "id": "blond-lightweight",
   "metadata": {},
   "outputs": [],
   "source": [
    "with open(\"y_test.txt\", \"w\") as txt_file:\n",
    "    for line in y_pred:\n",
    "        txt_file.write(line + \"\\n\") # works with any number of elements in a line"
   ]
  },
  {
   "cell_type": "code",
   "execution_count": null,
   "id": "known-world",
   "metadata": {},
   "outputs": [],
   "source": []
  }
 ],
 "metadata": {
  "kernelspec": {
   "display_name": "Python 3",
   "language": "python",
   "name": "python3"
  },
  "language_info": {
   "codemirror_mode": {
    "name": "ipython",
    "version": 3
   },
   "file_extension": ".py",
   "mimetype": "text/x-python",
   "name": "python",
   "nbconvert_exporter": "python",
   "pygments_lexer": "ipython3",
   "version": "3.8.5"
  }
 },
 "nbformat": 4,
 "nbformat_minor": 5
}
