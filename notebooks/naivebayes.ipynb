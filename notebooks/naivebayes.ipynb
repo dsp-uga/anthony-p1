{
 "cells": [
  {
   "cell_type": "code",
   "execution_count": 237,
   "metadata": {},
   "outputs": [],
   "source": [
    "import pandas as pd \n",
    "import numpy as np \n",
    "from collections import defaultdict\n",
    "import re \n",
    "\n",
    "import scipy.stats as stats\n",
    "import matplotlib.pyplot as plt\n",
    "import seaborn as sns\n",
    "sns.set(style=\"whitegrid\")"
   ]
  },
  {
   "cell_type": "code",
   "execution_count": 276,
   "metadata": {},
   "outputs": [],
   "source": [
    "from sklearn.naive_bayes import GaussianNB\n",
    "from sklearn.model_selection import train_test_split\n",
    "from sklearn.ensemble import RandomForestClassifier\n",
    "from sklearn.ensemble import GradientBoostingClassifier"
   ]
  },
  {
   "cell_type": "code",
   "execution_count": 239,
   "metadata": {},
   "outputs": [],
   "source": [
    "columnes = []\n",
    "hexidecimal_list = \"0123456789ABCDEF\"\n",
    "for i in hexidecimal_list:\n",
    "     for j in hexidecimal_list:\n",
    "            columnes.append(i+j)"
   ]
  },
  {
   "cell_type": "code",
   "execution_count": 259,
   "metadata": {},
   "outputs": [],
   "source": [
    "X_train = pd.read_csv(\"./data/df_train.csv\")\n",
    "X_test_real = pd.read_csv(\"./data/df_test.csv\")"
   ]
  },
  {
   "cell_type": "code",
   "execution_count": 260,
   "metadata": {},
   "outputs": [],
   "source": [
    "X_train_split = pd.DataFrame(np.swapaxes(np.concatenate([np.array(x)[:,None] for x in X_train[\"1-gram_features\"].apply(eval)], axis=1),0,1), columns = columnes)\n",
    "y_train = X_train[\"Labels\"]"
   ]
  },
  {
   "cell_type": "code",
   "execution_count": 261,
   "metadata": {},
   "outputs": [],
   "source": [
    "X_test_split = pd.DataFrame(np.swapaxes(np.concatenate([np.array(x)[:,None] for x in X_test_real[\"1-gram_features\"].apply(eval)], axis=1),0,1), columns = columnes)"
   ]
  },
  {
   "cell_type": "code",
   "execution_count": 262,
   "metadata": {},
   "outputs": [
    {
     "data": {
      "text/plain": [
       "(8147,)"
      ]
     },
     "execution_count": 262,
     "metadata": {},
     "output_type": "execute_result"
    }
   ],
   "source": [
    "y_train.shape"
   ]
  },
  {
   "cell_type": "code",
   "execution_count": 263,
   "metadata": {},
   "outputs": [],
   "source": [
    "X_train, X_test, y_train, y_test = train_test_split(X_train_split, y_train, test_size=0.05, random_state=0)"
   ]
  },
  {
   "cell_type": "code",
   "execution_count": 264,
   "metadata": {},
   "outputs": [
    {
     "data": {
      "text/plain": [
       "array([3, 1, 2, 4, 9, 5, 8, 6, 7])"
      ]
     },
     "execution_count": 264,
     "metadata": {},
     "output_type": "execute_result"
    }
   ],
   "source": [
    "y_train.unique()"
   ]
  },
  {
   "cell_type": "code",
   "execution_count": 265,
   "metadata": {},
   "outputs": [],
   "source": [
    "class NaiveBayesClassifier():\n",
    "    '''\n",
    "    Bayes Theorem form\n",
    "    P(y|X) = P(X|y) * P(y) / P(X)\n",
    "    '''\n",
    "    def calc_prior(self, features, target):\n",
    "        '''\n",
    "        prior probability P(y)\n",
    "        calculate prior probabilities\n",
    "        '''\n",
    "        self.prior = (features.groupby(target).apply(lambda x: len(x)) / self.rows).to_numpy()\n",
    "\n",
    "        return self.prior\n",
    "    \n",
    "    def calc_statistics(self, features, target):\n",
    "        '''\n",
    "        calculate mean, variance for each column and convert to numpy array\n",
    "        ''' \n",
    "        self.mean = features.groupby(target).apply(np.mean).to_numpy()\n",
    "        self.var = features.groupby(target).apply(np.var).to_numpy()\n",
    "              \n",
    "        return self.mean, self.var\n",
    "    \n",
    "    def gaussian_density(self, class_idx, x):     \n",
    "        '''\n",
    "        calculate probability from gaussian density function (normally distributed)\n",
    "        we will assume that probability of specific target value given specific class is normally distributed \n",
    "        \n",
    "        probability density function derived from wikipedia:\n",
    "        (1/√2pi*σ) * exp((-1/2)*((x-μ)^2)/(2*σ²)), where μ is mean, σ² is variance, σ is quare root of variance (standard deviation)\n",
    "        '''\n",
    "        mean = self.mean[class_idx]\n",
    "        var = self.var[class_idx]\n",
    "        numerator = np.exp((-1/2)*((x-mean)**2) / (2 * var))\n",
    "#         numerator = np.exp(-((x-mean)**2 / (2 * var)))\n",
    "        denominator = np.sqrt(2 * np.pi * var)\n",
    "        prob = numerator / denominator\n",
    "        return prob\n",
    "    \n",
    "    def calc_posterior(self, x):\n",
    "        posteriors = []\n",
    "\n",
    "        # calculate posterior probability for each class\n",
    "        for i in range(self.count):\n",
    "            prior = np.log(self.prior[i]) ## use the log to make it more numerically stable\n",
    "            conditional = np.sum(np.log(self.gaussian_density(i, x))) # use the log to make it more numerically stable\n",
    "            posterior = prior + conditional\n",
    "            posteriors.append(posterior)\n",
    "        # return class with highest posterior probability\n",
    "        return self.classes[np.argmax(posteriors)]\n",
    "     \n",
    "\n",
    "    def fit(self, features, target):\n",
    "        self.classes = np.unique(target)\n",
    "        self.count = len(self.classes)\n",
    "        self.feature_nums = features.shape[1]\n",
    "        self.rows = features.shape[0]\n",
    "        \n",
    "        self.calc_statistics(features, target)\n",
    "        self.calc_prior(features, target)\n",
    "        \n",
    "    def predict(self, features):\n",
    "        preds = [self.calc_posterior(f) for f in features.to_numpy()]\n",
    "        return preds\n",
    "\n",
    "    def accuracy(self, y_test, y_pred):\n",
    "        accuracy = np.sum(y_test == y_pred) / len(y_test)\n",
    "        return accuracy\n",
    "\n",
    "    def visualize(self, y_true, y_pred, target):\n",
    "        \n",
    "        tr = pd.DataFrame(data=y_true, columns=[target])\n",
    "        pr = pd.DataFrame(data=y_pred, columns=[target])\n",
    "        \n",
    "        \n",
    "        fig, ax = plt.subplots(1, 2, sharex='col', sharey='row', figsize=(15,6))\n",
    "        \n",
    "        sns.countplot(x=target, data=tr, ax=ax[0], palette='viridis', alpha=0.7, hue=target, dodge=False)\n",
    "        sns.countplot(x=target, data=pr, ax=ax[1], palette='viridis', alpha=0.7, hue=target, dodge=False)\n",
    "        \n",
    "\n",
    "        fig.suptitle('True vs Predicted Comparison', fontsize=20)\n",
    "\n",
    "        ax[0].tick_params(labelsize=12)\n",
    "        ax[1].tick_params(labelsize=12)\n",
    "        ax[0].set_title(\"True values\", fontsize=18)\n",
    "        ax[1].set_title(\"Predicted values\", fontsize=18)\n",
    "        plt.show()\n"
   ]
  },
  {
   "cell_type": "code",
   "execution_count": 266,
   "metadata": {},
   "outputs": [
    {
     "name": "stdout",
     "output_type": "stream",
     "text": [
      "(7739, 256) (7739,)\n",
      "(408, 256) (408,)\n"
     ]
    }
   ],
   "source": [
    "print(X_train.shape, y_train.shape)\n",
    "print(X_test.shape, y_test.shape)"
   ]
  },
  {
   "cell_type": "markdown",
   "metadata": {},
   "source": [
    "### Random Forest"
   ]
  },
  {
   "cell_type": "code",
   "execution_count": 267,
   "metadata": {},
   "outputs": [
    {
     "data": {
      "text/plain": [
       "RandomForestClassifier(max_depth=2, random_state=0)"
      ]
     },
     "execution_count": 267,
     "metadata": {},
     "output_type": "execute_result"
    }
   ],
   "source": [
    "clf = RandomForestClassifier(max_depth=2, random_state=0)\n",
    "clf.fit(X_train, y_train)"
   ]
  },
  {
   "cell_type": "code",
   "execution_count": 268,
   "metadata": {},
   "outputs": [
    {
     "name": "stdout",
     "output_type": "stream",
     "text": [
      "Mean Absolute Error: 2.39 degrees.\n"
     ]
    }
   ],
   "source": [
    "# Use the forest's predict method on the test data\n",
    "predictions = clf.predict(X_test)\n",
    "# Calculate the absolute errors\n",
    "errors = abs(predictions - y_test)\n",
    "# Print out the mean absolute error (mae)\n",
    "print('Mean Absolute Error:', round(np.mean(errors), 2), 'degrees.')"
   ]
  },
  {
   "cell_type": "code",
   "execution_count": 269,
   "metadata": {},
   "outputs": [
    {
     "name": "stdout",
     "output_type": "stream",
     "text": [
      "Accuracy: 64.7 %.\n"
     ]
    }
   ],
   "source": [
    "# Calculate mean absolute percentage error (MAPE)\n",
    "mape = 100 * (errors / y_test)\n",
    "# Calculate and display accuracy\n",
    "accuracy = 100 - np.mean(mape)\n",
    "print('Accuracy:', round(accuracy, 2), '%.')"
   ]
  },
  {
   "cell_type": "code",
   "execution_count": 271,
   "metadata": {},
   "outputs": [],
   "source": [
    "predictions_test = clf.predict(X_test_split)"
   ]
  },
  {
   "cell_type": "code",
   "execution_count": 274,
   "metadata": {},
   "outputs": [
    {
     "data": {
      "text/plain": [
       "array([1, 1, 2, ..., 1, 2, 1])"
      ]
     },
     "execution_count": 274,
     "metadata": {},
     "output_type": "execute_result"
    }
   ],
   "source": [
    "predictions_test"
   ]
  },
  {
   "cell_type": "code",
   "execution_count": 275,
   "metadata": {},
   "outputs": [],
   "source": [
    "with open(\"y_test.txt\", \"w\") as txt_file:\n",
    "    for line in predictions_test:\n",
    "        txt_file.write(str(line) + \"\\n\") # works with any number of elements in a line"
   ]
  },
  {
   "cell_type": "markdown",
   "metadata": {},
   "source": [
    "#### GDBT"
   ]
  },
  {
   "cell_type": "code",
   "execution_count": null,
   "metadata": {},
   "outputs": [],
   "source": [
    "gdbt = GradientBoostingClassifier(n_estimators=500, learning_rate=1.0,\n",
    "    max_depth=2, random_state=0).fit(X_train, y_train)\n",
    "gdbt.score(X_test, y_test)"
   ]
  },
  {
   "cell_type": "code",
   "execution_count": 278,
   "metadata": {},
   "outputs": [],
   "source": [
    "predictions_test = gdbt.predict(X_test_split)"
   ]
  },
  {
   "cell_type": "code",
   "execution_count": 279,
   "metadata": {},
   "outputs": [],
   "source": [
    "with open(\"y_test.txt\", \"w\") as txt_file:\n",
    "    for line in predictions_test:\n",
    "        txt_file.write(str(line) + \"\\n\") # works with any number of elements in a line"
   ]
  },
  {
   "cell_type": "code",
   "execution_count": null,
   "metadata": {},
   "outputs": [],
   "source": []
  },
  {
   "cell_type": "markdown",
   "metadata": {},
   "source": [
    "#### Naive Bayes"
   ]
  },
  {
   "cell_type": "code",
   "execution_count": 216,
   "metadata": {},
   "outputs": [],
   "source": [
    "# train the model\n",
    "x = NaiveBayesClassifier()\n",
    "x.fit(X_train, y_train)"
   ]
  },
  {
   "cell_type": "code",
   "execution_count": 217,
   "metadata": {},
   "outputs": [
    {
     "data": {
      "text/plain": [
       "(array([1, 2, 3, 4, 5, 6, 7, 8, 9]), 256, 303, 9)"
      ]
     },
     "execution_count": 217,
     "metadata": {},
     "output_type": "execute_result"
    }
   ],
   "source": [
    "x.classes, x.feature_nums, x.rows, x.count"
   ]
  },
  {
   "cell_type": "code",
   "execution_count": 228,
   "metadata": {},
   "outputs": [
    {
     "name": "stderr",
     "output_type": "stream",
     "text": [
      "/home/esbg-lab/anaconda3/envs/GT/lib/python3.7/site-packages/ipykernel_launcher.py:34: RuntimeWarning: divide by zero encountered in true_divide\n",
      "/home/esbg-lab/anaconda3/envs/GT/lib/python3.7/site-packages/ipykernel_launcher.py:37: RuntimeWarning: invalid value encountered in true_divide\n",
      "/home/esbg-lab/anaconda3/envs/GT/lib/python3.7/site-packages/ipykernel_launcher.py:46: RuntimeWarning: divide by zero encountered in log\n",
      "/home/esbg-lab/anaconda3/envs/GT/lib/python3.7/site-packages/ipykernel_launcher.py:34: RuntimeWarning: invalid value encountered in true_divide\n"
     ]
    }
   ],
   "source": [
    "predictions = x.predict(X_train)"
   ]
  },
  {
   "cell_type": "code",
   "execution_count": 229,
   "metadata": {},
   "outputs": [
    {
     "data": {
      "text/plain": [
       "0.006600660066006601"
      ]
     },
     "execution_count": 229,
     "metadata": {},
     "output_type": "execute_result"
    }
   ],
   "source": [
    "x.accuracy(y_train, predictions)"
   ]
  },
  {
   "cell_type": "code",
   "execution_count": 230,
   "metadata": {},
   "outputs": [
    {
     "data": {
      "text/plain": [
       "array([0.12871287, 0.23762376, 0.28712871, 0.04620462, 0.00660066,\n",
       "       0.05610561, 0.04290429, 0.0990099 , 0.09570957])"
      ]
     },
     "execution_count": 230,
     "metadata": {},
     "output_type": "execute_result"
    }
   ],
   "source": [
    "x.calc_prior(X_train, y_train)"
   ]
  },
  {
   "cell_type": "code",
   "execution_count": 231,
   "metadata": {},
   "outputs": [
    {
     "data": {
      "text/plain": [
       "array([0.12871287, 0.23762376, 0.28712871, 0.04620462, 0.00660066,\n",
       "       0.05610561, 0.04290429, 0.0990099 , 0.09570957])"
      ]
     },
     "execution_count": 231,
     "metadata": {},
     "output_type": "execute_result"
    }
   ],
   "source": [
    "x.prior"
   ]
  },
  {
   "cell_type": "code",
   "execution_count": 232,
   "metadata": {},
   "outputs": [
    {
     "data": {
      "text/plain": [
       "(array([[7.22156667e+04, 4.38784615e+03, 2.23441026e+03, ...,\n",
       "         1.13302564e+03, 1.54164103e+03, 1.37507949e+04],\n",
       "        [6.92538056e+04, 2.01003889e+04, 3.04675694e+04, ...,\n",
       "         5.80527778e+03, 6.99333333e+03, 4.01564722e+04],\n",
       "        [1.00953333e+04, 5.08804598e+03, 3.30741379e+03, ...,\n",
       "         3.26737931e+03, 3.27252874e+03, 6.22340230e+03],\n",
       "        ...,\n",
       "        [5.40623077e+03, 4.31153846e+02, 5.67846154e+02, ...,\n",
       "         2.48461538e+01, 2.80384615e+02, 8.04307692e+02],\n",
       "        [2.49716667e+04, 8.96300000e+02, 4.26033333e+02, ...,\n",
       "         4.09566667e+02, 4.63200000e+02, 4.14893333e+03],\n",
       "        [1.35016207e+05, 4.79910345e+03, 2.30617241e+03, ...,\n",
       "         1.72975862e+03, 2.27162069e+03, 1.83510690e+04]]),\n",
       " array([[5.36561999e+09, 3.31901597e+07, 6.09683470e+06, ...,\n",
       "         2.02274044e+06, 3.26849808e+06, 1.80390746e+08],\n",
       "        [7.63959999e+09, 4.57229238e+08, 5.32137460e+09, ...,\n",
       "         7.13801611e+08, 1.75549547e+07, 4.08382200e+08],\n",
       "        [4.02980739e+06, 1.20944283e+06, 2.91391047e+05, ...,\n",
       "         2.86756994e+05, 3.20104433e+05, 2.20477902e+06],\n",
       "        ...,\n",
       "        [6.62724793e+05, 1.53012644e+06, 3.39024951e+06, ...,\n",
       "         9.47976331e+02, 7.61923621e+05, 1.18009598e+05],\n",
       "        [2.78957761e+08, 5.37312143e+05, 2.48281366e+05, ...,\n",
       "         9.93170456e+04, 2.37012093e+05, 2.26019349e+07],\n",
       "        [2.16169904e+10, 1.91946911e+07, 4.92950828e+06, ...,\n",
       "         2.22048956e+06, 4.90218527e+06, 3.97806139e+08]]))"
      ]
     },
     "execution_count": 232,
     "metadata": {},
     "output_type": "execute_result"
    }
   ],
   "source": [
    "x.calc_statistics(X_train, y_train)"
   ]
  },
  {
   "cell_type": "code",
   "execution_count": 233,
   "metadata": {},
   "outputs": [
    {
     "data": {
      "text/plain": [
       "array([[7.22156667e+04, 4.38784615e+03, 2.23441026e+03, ...,\n",
       "        1.13302564e+03, 1.54164103e+03, 1.37507949e+04],\n",
       "       [6.92538056e+04, 2.01003889e+04, 3.04675694e+04, ...,\n",
       "        5.80527778e+03, 6.99333333e+03, 4.01564722e+04],\n",
       "       [1.00953333e+04, 5.08804598e+03, 3.30741379e+03, ...,\n",
       "        3.26737931e+03, 3.27252874e+03, 6.22340230e+03],\n",
       "       ...,\n",
       "       [5.40623077e+03, 4.31153846e+02, 5.67846154e+02, ...,\n",
       "        2.48461538e+01, 2.80384615e+02, 8.04307692e+02],\n",
       "       [2.49716667e+04, 8.96300000e+02, 4.26033333e+02, ...,\n",
       "        4.09566667e+02, 4.63200000e+02, 4.14893333e+03],\n",
       "       [1.35016207e+05, 4.79910345e+03, 2.30617241e+03, ...,\n",
       "        1.72975862e+03, 2.27162069e+03, 1.83510690e+04]])"
      ]
     },
     "execution_count": 233,
     "metadata": {},
     "output_type": "execute_result"
    }
   ],
   "source": [
    "x.mean"
   ]
  },
  {
   "cell_type": "code",
   "execution_count": 234,
   "metadata": {},
   "outputs": [
    {
     "data": {
      "text/plain": [
       "array([[5.36561999e+09, 3.31901597e+07, 6.09683470e+06, ...,\n",
       "        2.02274044e+06, 3.26849808e+06, 1.80390746e+08],\n",
       "       [7.63959999e+09, 4.57229238e+08, 5.32137460e+09, ...,\n",
       "        7.13801611e+08, 1.75549547e+07, 4.08382200e+08],\n",
       "       [4.02980739e+06, 1.20944283e+06, 2.91391047e+05, ...,\n",
       "        2.86756994e+05, 3.20104433e+05, 2.20477902e+06],\n",
       "       ...,\n",
       "       [6.62724793e+05, 1.53012644e+06, 3.39024951e+06, ...,\n",
       "        9.47976331e+02, 7.61923621e+05, 1.18009598e+05],\n",
       "       [2.78957761e+08, 5.37312143e+05, 2.48281366e+05, ...,\n",
       "        9.93170456e+04, 2.37012093e+05, 2.26019349e+07],\n",
       "       [2.16169904e+10, 1.91946911e+07, 4.92950828e+06, ...,\n",
       "        2.22048956e+06, 4.90218527e+06, 3.97806139e+08]])"
      ]
     },
     "execution_count": 234,
     "metadata": {},
     "output_type": "execute_result"
    }
   ],
   "source": [
    "x.var"
   ]
  },
  {
   "cell_type": "code",
   "execution_count": 235,
   "metadata": {},
   "outputs": [
    {
     "data": {
      "text/html": [
       "<div>\n",
       "<style scoped>\n",
       "    .dataframe tbody tr th:only-of-type {\n",
       "        vertical-align: middle;\n",
       "    }\n",
       "\n",
       "    .dataframe tbody tr th {\n",
       "        vertical-align: top;\n",
       "    }\n",
       "\n",
       "    .dataframe thead th {\n",
       "        text-align: right;\n",
       "    }\n",
       "</style>\n",
       "<table border=\"1\" class=\"dataframe\">\n",
       "  <thead>\n",
       "    <tr style=\"text-align: right;\">\n",
       "      <th></th>\n",
       "      <th>00</th>\n",
       "      <th>01</th>\n",
       "      <th>02</th>\n",
       "      <th>03</th>\n",
       "      <th>04</th>\n",
       "      <th>05</th>\n",
       "      <th>06</th>\n",
       "      <th>07</th>\n",
       "      <th>08</th>\n",
       "      <th>09</th>\n",
       "      <th>...</th>\n",
       "      <th>F6</th>\n",
       "      <th>F7</th>\n",
       "      <th>F8</th>\n",
       "      <th>F9</th>\n",
       "      <th>FA</th>\n",
       "      <th>FB</th>\n",
       "      <th>FC</th>\n",
       "      <th>FD</th>\n",
       "      <th>FE</th>\n",
       "      <th>FF</th>\n",
       "    </tr>\n",
       "  </thead>\n",
       "  <tbody>\n",
       "    <tr>\n",
       "      <th>8</th>\n",
       "      <td>10581</td>\n",
       "      <td>5543</td>\n",
       "      <td>3297</td>\n",
       "      <td>3204</td>\n",
       "      <td>3224</td>\n",
       "      <td>3303</td>\n",
       "      <td>3158</td>\n",
       "      <td>3355</td>\n",
       "      <td>3295</td>\n",
       "      <td>3256</td>\n",
       "      <td>...</td>\n",
       "      <td>3152</td>\n",
       "      <td>3240</td>\n",
       "      <td>3252</td>\n",
       "      <td>3223</td>\n",
       "      <td>3142</td>\n",
       "      <td>3132</td>\n",
       "      <td>3180</td>\n",
       "      <td>3209</td>\n",
       "      <td>3193</td>\n",
       "      <td>6728</td>\n",
       "    </tr>\n",
       "    <tr>\n",
       "      <th>190</th>\n",
       "      <td>19864</td>\n",
       "      <td>1329</td>\n",
       "      <td>895</td>\n",
       "      <td>880</td>\n",
       "      <td>986</td>\n",
       "      <td>535</td>\n",
       "      <td>442</td>\n",
       "      <td>617</td>\n",
       "      <td>2150</td>\n",
       "      <td>675</td>\n",
       "      <td>...</td>\n",
       "      <td>331</td>\n",
       "      <td>10242</td>\n",
       "      <td>1342</td>\n",
       "      <td>234</td>\n",
       "      <td>973</td>\n",
       "      <td>935</td>\n",
       "      <td>644</td>\n",
       "      <td>498</td>\n",
       "      <td>1503</td>\n",
       "      <td>7408</td>\n",
       "    </tr>\n",
       "    <tr>\n",
       "      <th>303</th>\n",
       "      <td>6798</td>\n",
       "      <td>3034</td>\n",
       "      <td>3118</td>\n",
       "      <td>3172</td>\n",
       "      <td>3060</td>\n",
       "      <td>3085</td>\n",
       "      <td>3196</td>\n",
       "      <td>3061</td>\n",
       "      <td>3098</td>\n",
       "      <td>3020</td>\n",
       "      <td>...</td>\n",
       "      <td>3108</td>\n",
       "      <td>3194</td>\n",
       "      <td>3142</td>\n",
       "      <td>3089</td>\n",
       "      <td>3218</td>\n",
       "      <td>3114</td>\n",
       "      <td>3021</td>\n",
       "      <td>3088</td>\n",
       "      <td>3156</td>\n",
       "      <td>3588</td>\n",
       "    </tr>\n",
       "    <tr>\n",
       "      <th>237</th>\n",
       "      <td>5368</td>\n",
       "      <td>72</td>\n",
       "      <td>27</td>\n",
       "      <td>26</td>\n",
       "      <td>35</td>\n",
       "      <td>28</td>\n",
       "      <td>9</td>\n",
       "      <td>8</td>\n",
       "      <td>17</td>\n",
       "      <td>8</td>\n",
       "      <td>...</td>\n",
       "      <td>20</td>\n",
       "      <td>6</td>\n",
       "      <td>6</td>\n",
       "      <td>6</td>\n",
       "      <td>4</td>\n",
       "      <td>7</td>\n",
       "      <td>7</td>\n",
       "      <td>14</td>\n",
       "      <td>28</td>\n",
       "      <td>1574</td>\n",
       "    </tr>\n",
       "    <tr>\n",
       "      <th>329</th>\n",
       "      <td>74323</td>\n",
       "      <td>11945</td>\n",
       "      <td>5057</td>\n",
       "      <td>6467</td>\n",
       "      <td>8194</td>\n",
       "      <td>1972</td>\n",
       "      <td>2011</td>\n",
       "      <td>2137</td>\n",
       "      <td>4668</td>\n",
       "      <td>1250</td>\n",
       "      <td>...</td>\n",
       "      <td>1403</td>\n",
       "      <td>1481</td>\n",
       "      <td>2275</td>\n",
       "      <td>2867</td>\n",
       "      <td>1495</td>\n",
       "      <td>1080</td>\n",
       "      <td>1531</td>\n",
       "      <td>2593</td>\n",
       "      <td>2283</td>\n",
       "      <td>12050</td>\n",
       "    </tr>\n",
       "    <tr>\n",
       "      <th>...</th>\n",
       "      <td>...</td>\n",
       "      <td>...</td>\n",
       "      <td>...</td>\n",
       "      <td>...</td>\n",
       "      <td>...</td>\n",
       "      <td>...</td>\n",
       "      <td>...</td>\n",
       "      <td>...</td>\n",
       "      <td>...</td>\n",
       "      <td>...</td>\n",
       "      <td>...</td>\n",
       "      <td>...</td>\n",
       "      <td>...</td>\n",
       "      <td>...</td>\n",
       "      <td>...</td>\n",
       "      <td>...</td>\n",
       "      <td>...</td>\n",
       "      <td>...</td>\n",
       "      <td>...</td>\n",
       "      <td>...</td>\n",
       "      <td>...</td>\n",
       "    </tr>\n",
       "    <tr>\n",
       "      <th>323</th>\n",
       "      <td>19621</td>\n",
       "      <td>714</td>\n",
       "      <td>292</td>\n",
       "      <td>441</td>\n",
       "      <td>576</td>\n",
       "      <td>384</td>\n",
       "      <td>262</td>\n",
       "      <td>223</td>\n",
       "      <td>362</td>\n",
       "      <td>222</td>\n",
       "      <td>...</td>\n",
       "      <td>477</td>\n",
       "      <td>824</td>\n",
       "      <td>951</td>\n",
       "      <td>344</td>\n",
       "      <td>236</td>\n",
       "      <td>273</td>\n",
       "      <td>632</td>\n",
       "      <td>230</td>\n",
       "      <td>231</td>\n",
       "      <td>2193</td>\n",
       "    </tr>\n",
       "    <tr>\n",
       "      <th>192</th>\n",
       "      <td>36571</td>\n",
       "      <td>1341</td>\n",
       "      <td>743</td>\n",
       "      <td>659</td>\n",
       "      <td>1652</td>\n",
       "      <td>1061</td>\n",
       "      <td>645</td>\n",
       "      <td>811</td>\n",
       "      <td>1228</td>\n",
       "      <td>446</td>\n",
       "      <td>...</td>\n",
       "      <td>739</td>\n",
       "      <td>406</td>\n",
       "      <td>855</td>\n",
       "      <td>172</td>\n",
       "      <td>687</td>\n",
       "      <td>491</td>\n",
       "      <td>514</td>\n",
       "      <td>327</td>\n",
       "      <td>784</td>\n",
       "      <td>6851</td>\n",
       "    </tr>\n",
       "    <tr>\n",
       "      <th>117</th>\n",
       "      <td>5762</td>\n",
       "      <td>61</td>\n",
       "      <td>20</td>\n",
       "      <td>36</td>\n",
       "      <td>30</td>\n",
       "      <td>24</td>\n",
       "      <td>6</td>\n",
       "      <td>3</td>\n",
       "      <td>108</td>\n",
       "      <td>4</td>\n",
       "      <td>...</td>\n",
       "      <td>6</td>\n",
       "      <td>20</td>\n",
       "      <td>10</td>\n",
       "      <td>10</td>\n",
       "      <td>6</td>\n",
       "      <td>7</td>\n",
       "      <td>11</td>\n",
       "      <td>7</td>\n",
       "      <td>28</td>\n",
       "      <td>630</td>\n",
       "    </tr>\n",
       "    <tr>\n",
       "      <th>47</th>\n",
       "      <td>3835</td>\n",
       "      <td>771</td>\n",
       "      <td>868</td>\n",
       "      <td>722</td>\n",
       "      <td>659</td>\n",
       "      <td>657</td>\n",
       "      <td>688</td>\n",
       "      <td>636</td>\n",
       "      <td>696</td>\n",
       "      <td>660</td>\n",
       "      <td>...</td>\n",
       "      <td>696</td>\n",
       "      <td>674</td>\n",
       "      <td>664</td>\n",
       "      <td>665</td>\n",
       "      <td>640</td>\n",
       "      <td>646</td>\n",
       "      <td>690</td>\n",
       "      <td>614</td>\n",
       "      <td>674</td>\n",
       "      <td>1028</td>\n",
       "    </tr>\n",
       "    <tr>\n",
       "      <th>172</th>\n",
       "      <td>11331</td>\n",
       "      <td>5579</td>\n",
       "      <td>3252</td>\n",
       "      <td>3312</td>\n",
       "      <td>3383</td>\n",
       "      <td>3324</td>\n",
       "      <td>3295</td>\n",
       "      <td>3308</td>\n",
       "      <td>3256</td>\n",
       "      <td>3310</td>\n",
       "      <td>...</td>\n",
       "      <td>3138</td>\n",
       "      <td>3222</td>\n",
       "      <td>3201</td>\n",
       "      <td>3289</td>\n",
       "      <td>3381</td>\n",
       "      <td>3178</td>\n",
       "      <td>3236</td>\n",
       "      <td>3277</td>\n",
       "      <td>3167</td>\n",
       "      <td>7155</td>\n",
       "    </tr>\n",
       "  </tbody>\n",
       "</table>\n",
       "<p>303 rows × 256 columns</p>\n",
       "</div>"
      ],
      "text/plain": [
       "        00     01    02    03    04    05    06    07    08    09  ...    F6  \\\n",
       "8    10581   5543  3297  3204  3224  3303  3158  3355  3295  3256  ...  3152   \n",
       "190  19864   1329   895   880   986   535   442   617  2150   675  ...   331   \n",
       "303   6798   3034  3118  3172  3060  3085  3196  3061  3098  3020  ...  3108   \n",
       "237   5368     72    27    26    35    28     9     8    17     8  ...    20   \n",
       "329  74323  11945  5057  6467  8194  1972  2011  2137  4668  1250  ...  1403   \n",
       "..     ...    ...   ...   ...   ...   ...   ...   ...   ...   ...  ...   ...   \n",
       "323  19621    714   292   441   576   384   262   223   362   222  ...   477   \n",
       "192  36571   1341   743   659  1652  1061   645   811  1228   446  ...   739   \n",
       "117   5762     61    20    36    30    24     6     3   108     4  ...     6   \n",
       "47    3835    771   868   722   659   657   688   636   696   660  ...   696   \n",
       "172  11331   5579  3252  3312  3383  3324  3295  3308  3256  3310  ...  3138   \n",
       "\n",
       "        F7    F8    F9    FA    FB    FC    FD    FE     FF  \n",
       "8     3240  3252  3223  3142  3132  3180  3209  3193   6728  \n",
       "190  10242  1342   234   973   935   644   498  1503   7408  \n",
       "303   3194  3142  3089  3218  3114  3021  3088  3156   3588  \n",
       "237      6     6     6     4     7     7    14    28   1574  \n",
       "329   1481  2275  2867  1495  1080  1531  2593  2283  12050  \n",
       "..     ...   ...   ...   ...   ...   ...   ...   ...    ...  \n",
       "323    824   951   344   236   273   632   230   231   2193  \n",
       "192    406   855   172   687   491   514   327   784   6851  \n",
       "117     20    10    10     6     7    11     7    28    630  \n",
       "47     674   664   665   640   646   690   614   674   1028  \n",
       "172   3222  3201  3289  3381  3178  3236  3277  3167   7155  \n",
       "\n",
       "[303 rows x 256 columns]"
      ]
     },
     "execution_count": 235,
     "metadata": {},
     "output_type": "execute_result"
    }
   ],
   "source": [
    "X_train"
   ]
  },
  {
   "cell_type": "code",
   "execution_count": 236,
   "metadata": {},
   "outputs": [
    {
     "data": {
      "text/plain": [
       "8      3\n",
       "190    2\n",
       "303    3\n",
       "237    7\n",
       "329    1\n",
       "      ..\n",
       "323    8\n",
       "192    9\n",
       "117    7\n",
       "47     6\n",
       "172    3\n",
       "Name: Labels, Length: 303, dtype: int64"
      ]
     },
     "execution_count": 236,
     "metadata": {},
     "output_type": "execute_result"
    }
   ],
   "source": [
    "y_train"
   ]
  },
  {
   "cell_type": "code",
   "execution_count": null,
   "metadata": {},
   "outputs": [],
   "source": []
  }
 ],
 "metadata": {
  "kernelspec": {
   "display_name": "Python 3",
   "language": "python",
   "name": "python3"
  },
  "language_info": {
   "codemirror_mode": {
    "name": "ipython",
    "version": 3
   },
   "file_extension": ".py",
   "mimetype": "text/x-python",
   "name": "python",
   "nbconvert_exporter": "python",
   "pygments_lexer": "ipython3",
   "version": "3.7.9"
  }
 },
 "nbformat": 4,
 "nbformat_minor": 4
}
